{
 "cells": [
  {
   "cell_type": "code",
   "execution_count": 1,
   "id": "2264c150-3007-4352-9310-8000c70947f3",
   "metadata": {},
   "outputs": [],
   "source": [
    "import os\n",
    "import time\n",
    "import xarray as xr\n",
    "import rioxarray as rxr\n",
    "from rasterio.enums import Resampling\n",
    "from rasterio import Affine\n",
    "from urllib.request import urlretrieve\n",
    "from osgeo import gdal, osr\n",
    "import numpy as np\n",
    "import cftime as cf\n",
    "import datetime"
   ]
  },
  {
   "cell_type": "code",
   "execution_count": 2,
   "id": "2ae416db-deeb-46e9-9043-fd3142f3a3a8",
   "metadata": {},
   "outputs": [],
   "source": [
    "# vars\n",
    "sdate = datetime.datetime(2020, 1, 1)\n",
    "edate = datetime.datetime(2050, 1, 1)\n",
    "\n",
    "# data sources\n",
    "remote_data = 'https://www.arcgis.com/sharing/rest/content/items/f950ea7878e143258a495daddea90cc0/data'\n",
    "local_data = 'sequestration_rate_mean_aboveground_full_extent_Mg_C_ha_yr.tif'\n",
    "remote_u_data = 'https://www.arcgis.com/sharing/rest/content/items/d28470313b8e443aa90d5cbcd0f74163/data'\n",
    "local_u_data = 'sequestration_error_ratio_layer_in_full_extent.tif'"
   ]
  },
  {
   "cell_type": "code",
   "execution_count": 107,
   "id": "08a543f8-fe87-4bf0-bb41-7eb8a8af29b6",
   "metadata": {},
   "outputs": [],
   "source": [
    "# Open the input raster\n",
    "download_stamp = time.strftime('%Y-%m-%d', time.localtime(os.path.getmtime(local_data)))\n",
    "if not os.path.isfile(local_data):\n",
    "    urlretrieve(remote_data, local_data)\n",
    "data = rxr.open_rasterio(local_data)\n",
    "\n",
    "# ensure data is not projected and is wgs84\n",
    "epsg_code = int(data.rio.crs.to_epsg())\n",
    "if epsg_code != 4326:\n",
    "    data = data.rio.reproject(crs='EPSG:4326')"
   ]
  },
  {
   "cell_type": "code",
   "execution_count": 108,
   "id": "2532b659-6bb1-4a2d-9b79-3931c5760895",
   "metadata": {},
   "outputs": [],
   "source": [
    "# resample to 0.5 degrees using bilinear interpolation\n",
    "target_res = 0.5\n",
    "data = data.rio.write_nodata(np.nan, inplace=True)\n",
    "resampled_data = data.coarsen(band=1, \n",
    "                              x=(int((data.rio.height * abs(data.rio.resolution()[0])) / target_res)),\n",
    "                              y=(int((data.rio.width * abs(data.rio.resolution()[0])) / target_res))\n",
    "                             ).mean()"
   ]
  },
  {
   "cell_type": "code",
   "execution_count": 109,
   "id": "b2e6d439-6239-4382-abe0-479d4740a6d7",
   "metadata": {},
   "outputs": [],
   "source": [
    "ds = resampled_data.rename({'x': 'lon', 'y': 'lat'})"
   ]
  },
  {
   "cell_type": "code",
   "execution_count": 110,
   "id": "dc81588f-85ba-4720-9d4c-9cd34ce53aab",
   "metadata": {},
   "outputs": [
    {
     "data": {
      "text/plain": [
       "<matplotlib.collections.QuadMesh at 0x727cfcff2510>"
      ]
     },
     "execution_count": 110,
     "metadata": {},
     "output_type": "execute_result"
    },
    {
     "data": {
      "image/png": "[encoded data removed]",
      "text/plain": [
       "<Figure size 640x480 with 2 Axes>"
      ]
     },
     "metadata": {},
     "output_type": "display_data"
    }
   ],
   "source": [
    "ds.plot()"
   ]
  },
  {
   "cell_type": "code",
   "execution_count": 111,
   "id": "f1451578-64fb-4da8-876a-7e5e52cf6483",
   "metadata": {},
   "outputs": [],
   "source": [
    "tb_arr = np.asarray([\n",
    "    [cf.DatetimeNoLeap(sdate.year, sdate.month, sdate.day)],\n",
    "    [cf.DatetimeNoLeap(edate.year, edate.month, edate.day)]\n",
    "]).T"
   ]
  },
  {
   "cell_type": "code",
   "execution_count": 112,
   "id": "cbc0ef97-0e50-4e78-bc29-8062aab676a7",
   "metadata": {},
   "outputs": [],
   "source": [
    "tb_da = xr.DataArray(tb_arr, dims=('time', 'nv'))"
   ]
  },
  {
   "cell_type": "code",
   "execution_count": 113,
   "id": "90824fc4-3799-4c4d-9879-b9efb39b1b5c",
   "metadata": {},
   "outputs": [],
   "source": [
    "ds = ds.expand_dims(time=tb_da.mean(dim='nv'))"
   ]
  },
  {
   "cell_type": "code",
   "execution_count": 114,
   "id": "17162ab2-1e01-401b-b138-a015bcc084b6",
   "metadata": {},
   "outputs": [],
   "source": [
    "# is this right?\n",
    "ds.time.attrs['bounds'] = tb_da"
   ]
  },
  {
   "cell_type": "code",
   "execution_count": 115,
   "id": "6c9b0b48-e5a2-4647-81b1-b55305d94348",
   "metadata": {},
   "outputs": [
    {
     "data": {
      "text/plain": [
       "{'time_bnds': <xarray.DataArray (time: 1, nv: 2)> Size: 16B\n",
       " array([[cftime.DatetimeNoLeap(2020, 1, 1, 0, 0, 0, 0, has_year_zero=True),\n",
       "         cftime.DatetimeNoLeap(2050, 1, 1, 0, 0, 0, 0, has_year_zero=True)]],\n",
       "       dtype=object)\n",
       " Dimensions without coordinates: time, nv}"
      ]
     },
     "execution_count": 115,
     "metadata": {},
     "output_type": "execute_result"
    }
   ],
   "source": [
    "ds.time.attrs"
   ]
  },
  {
   "cell_type": "code",
   "execution_count": null,
   "id": "764aabcd-86ae-46db-a98b-5dd9f042b4b5",
   "metadata": {},
   "outputs": [],
   "source": []
  }
 ],
 "metadata": {
  "kernelspec": {
   "display_name": "Python 3 (ipykernel)",
   "language": "python",
   "name": "python3"
  },
  "language_info": {
   "codemirror_mode": {
    "name": "ipython",
    "version": 3
   },
   "file_extension": ".py",
   "mimetype": "text/x-python",
   "name": "python",
   "nbconvert_exporter": "python",
   "pygments_lexer": "ipython3",
   "version": "3.12.3"
  }
 },
 "nbformat": 4,
 "nbformat_minor": 5
}
